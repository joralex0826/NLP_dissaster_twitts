{
  "nbformat": 4,
  "nbformat_minor": 0,
  "metadata": {
    "colab": {
      "provenance": []
    },
    "kernelspec": {
      "name": "python3",
      "display_name": "Python 3"
    },
    "language_info": {
      "name": "python"
    }
  },
  "cells": [
    {
      "cell_type": "markdown",
      "source": [
        "# NLP getting started Kaggle competition solution"
      ],
      "metadata": {
        "id": "WGq25VSImJ8Y"
      }
    },
    {
      "cell_type": "markdown",
      "source": [
        "## Pasos a seguir\n",
        "\n",
        "\n",
        "\n",
        "*   Exploración de los datos\n",
        "*   Valores nulos de la columna keyword se reemplazan con cat \"neutral\"\n",
        "*   Se elimina variable location dado que los datos contienen mucho ruido\n",
        "\n"
      ],
      "metadata": {
        "id": "hAAjzMbOnOOB"
      }
    },
    {
      "cell_type": "code",
      "source": [
        "import numpy as np\n",
        "import pandas as pd\n",
        "#!pip install unidecode\n",
        "from unidecode import unidecode\n",
        "import re\n",
        "from nltk.corpus import stopwords\n",
        "import nltk\n",
        "#!nltk.download('stopwords')\n",
        "#!nltk.download('wordnet')\n",
        "#!pip install kaggle\n",
        "from nltk.stem import WordNetLemmatizer\n",
        "from sklearn.model_selection import train_test_split\n",
        "from sklearn.pipeline import make_pipeline\n",
        "from sklearn.preprocessing import StandardScaler\n",
        "from matplotlib import pyplot as plt\n",
        "from sklearn.pipeline import Pipeline\n",
        "import seaborn as sns\n",
        "from sklearn.model_selection import GridSearchCV\n",
        "from sklearn.ensemble import RandomForestClassifier, GradientBoostingClassifier\n",
        "from sklearn.feature_extraction.text import CountVectorizer\n",
        "from nltk.tokenize import RegexpTokenizer\n",
        "from sklearn.linear_model import LogisticRegression\n",
        "from sklearn.metrics import accuracy_score,precision_score,recall_score,f1_score\n",
        "#nltk.download('stopwords')\n",
        "#nltk.download('wordnet')\n",
        "from sklearn.compose import ColumnTransformer\n",
        "from sklearn.preprocessing import OneHotEncoder"
      ],
      "metadata": {
        "id": "_zJ2Tl-bmh9Z"
      },
      "execution_count": 1,
      "outputs": []
    },
    {
      "cell_type": "code",
      "source": [
        "#!mkdir ~/.kaggle\n",
        "#!cp kaggle.json ~/.kaggle/kaggle.json\n",
        "#!chmod 600 ~/.kaggle/kaggle.json\n",
        "#!kaggle competitions download -c nlp-getting-started\n",
        "#!unzip nlp-getting-started.zip"
      ],
      "metadata": {
        "id": "q1HFfvAglVSQ"
      },
      "execution_count": 2,
      "outputs": []
    },
    {
      "cell_type": "markdown",
      "source": [
        "## EDA"
      ],
      "metadata": {
        "id": "uOT7PK43mYAq"
      }
    },
    {
      "cell_type": "code",
      "source": [
        "df = pd.read_csv('train.csv')"
      ],
      "metadata": {
        "id": "xybQ7YubmW_T"
      },
      "execution_count": 3,
      "outputs": []
    },
    {
      "cell_type": "code",
      "source": [
        "df.info()"
      ],
      "metadata": {
        "colab": {
          "base_uri": "https://localhost:8080/"
        },
        "id": "ugmz0e-ImpMK",
        "outputId": "8a46d634-5aa5-46fa-b5ea-6130dd69eaed"
      },
      "execution_count": 4,
      "outputs": [
        {
          "output_type": "stream",
          "name": "stdout",
          "text": [
            "<class 'pandas.core.frame.DataFrame'>\n",
            "RangeIndex: 7613 entries, 0 to 7612\n",
            "Data columns (total 5 columns):\n",
            " #   Column    Non-Null Count  Dtype \n",
            "---  ------    --------------  ----- \n",
            " 0   id        7613 non-null   int64 \n",
            " 1   keyword   7552 non-null   object\n",
            " 2   location  5080 non-null   object\n",
            " 3   text      7613 non-null   object\n",
            " 4   target    7613 non-null   int64 \n",
            "dtypes: int64(2), object(3)\n",
            "memory usage: 297.5+ KB\n"
          ]
        }
      ]
    },
    {
      "cell_type": "code",
      "source": [
        "df['keyword'].value_counts()"
      ],
      "metadata": {
        "colab": {
          "base_uri": "https://localhost:8080/"
        },
        "id": "JzCdQJafoKnL",
        "outputId": "a23d4122-2a7a-4fc9-e1f5-00f7f15e121a"
      },
      "execution_count": 5,
      "outputs": [
        {
          "output_type": "execute_result",
          "data": {
            "text/plain": [
              "fatalities               45\n",
              "deluge                   42\n",
              "armageddon               42\n",
              "sinking                  41\n",
              "damage                   41\n",
              "                         ..\n",
              "forest%20fire            19\n",
              "epicentre                12\n",
              "threat                   11\n",
              "inundation               10\n",
              "radiation%20emergency     9\n",
              "Name: keyword, Length: 221, dtype: int64"
            ]
          },
          "metadata": {},
          "execution_count": 5
        }
      ]
    },
    {
      "cell_type": "code",
      "source": [
        "def preprocessing_data(df):\n",
        "  df['keyword'] = df['keyword'].fillna('neutral')\n",
        "  df.drop('location', axis = 1, inplace = True)\n",
        "\n",
        "  return df\n",
        "\n",
        "\n",
        "def noTilde(text):\n",
        "    # Eliminar caracteres no alfabéticos y transliterar caracteres especiales a caracteres ASCII\n",
        "    processed_text = unidecode(text.lower())\n",
        "    # Eliminar los dígitos y caracteres especiales utilizando una expresión regular\n",
        "    clean_text = re.sub(r'[^a-z0-9 ]', ' ', processed_text)\n",
        "\n",
        "    # Inicializar el lematizador de palabras\n",
        "    lemmatizer = WordNetLemmatizer()\n",
        "\n",
        "    # Lematizar cada palabra en el texto limpio\n",
        "    lemmatized_text = ' '.join([lemmatizer.lemmatize(word,pos='v') for word in clean_text.split()])\n",
        "\n",
        "    # Eliminar espacios adicionales y retornar el texto lematizado y limpio\n",
        "    lemmatized_text = ' '.join(lemmatized_text.split())\n",
        "\n",
        "    return lemmatized_text"
      ],
      "metadata": {
        "id": "KvATj_oCoKqC"
      },
      "execution_count": 6,
      "outputs": []
    },
    {
      "cell_type": "code",
      "source": [
        "abt = df.copy()"
      ],
      "metadata": {
        "id": "W7Ko5xVZrXqM"
      },
      "execution_count": 7,
      "outputs": []
    },
    {
      "cell_type": "code",
      "source": [
        "preprocessing_data(abt)\n",
        "abt['keyword'] = abt['keyword'].apply(noTilde)"
      ],
      "metadata": {
        "id": "L4m2CyFerXyR"
      },
      "execution_count": 8,
      "outputs": []
    },
    {
      "cell_type": "markdown",
      "source": [
        "### Modelo\n",
        "\n",
        "\n",
        "\n",
        "*   Train/test split\n",
        "*   Preprocessing\n",
        "*  Model\n",
        "* Pipeline\n",
        "\n"
      ],
      "metadata": {
        "id": "SiMqWl_MvxIM"
      }
    },
    {
      "cell_type": "code",
      "source": [
        "abt.head()"
      ],
      "metadata": {
        "colab": {
          "base_uri": "https://localhost:8080/",
          "height": 206
        },
        "id": "58kmMJ8YwBKg",
        "outputId": "3924afa0-f673-4652-e1f2-9882771fbe31"
      },
      "execution_count": 9,
      "outputs": [
        {
          "output_type": "execute_result",
          "data": {
            "text/plain": [
              "   id  keyword                                               text  target\n",
              "0   1  neutral  Our Deeds are the Reason of this #earthquake M...       1\n",
              "1   4  neutral             Forest fire near La Ronge Sask. Canada       1\n",
              "2   5  neutral  All residents asked to 'shelter in place' are ...       1\n",
              "3   6  neutral  13,000 people receive #wildfires evacuation or...       1\n",
              "4   7  neutral  Just got sent this photo from Ruby #Alaska as ...       1"
            ],
            "text/html": [
              "\n",
              "  <div id=\"df-2c77585a-c426-4a9e-84f2-161ba5ba3101\">\n",
              "    <div class=\"colab-df-container\">\n",
              "      <div>\n",
              "<style scoped>\n",
              "    .dataframe tbody tr th:only-of-type {\n",
              "        vertical-align: middle;\n",
              "    }\n",
              "\n",
              "    .dataframe tbody tr th {\n",
              "        vertical-align: top;\n",
              "    }\n",
              "\n",
              "    .dataframe thead th {\n",
              "        text-align: right;\n",
              "    }\n",
              "</style>\n",
              "<table border=\"1\" class=\"dataframe\">\n",
              "  <thead>\n",
              "    <tr style=\"text-align: right;\">\n",
              "      <th></th>\n",
              "      <th>id</th>\n",
              "      <th>keyword</th>\n",
              "      <th>text</th>\n",
              "      <th>target</th>\n",
              "    </tr>\n",
              "  </thead>\n",
              "  <tbody>\n",
              "    <tr>\n",
              "      <th>0</th>\n",
              "      <td>1</td>\n",
              "      <td>neutral</td>\n",
              "      <td>Our Deeds are the Reason of this #earthquake M...</td>\n",
              "      <td>1</td>\n",
              "    </tr>\n",
              "    <tr>\n",
              "      <th>1</th>\n",
              "      <td>4</td>\n",
              "      <td>neutral</td>\n",
              "      <td>Forest fire near La Ronge Sask. Canada</td>\n",
              "      <td>1</td>\n",
              "    </tr>\n",
              "    <tr>\n",
              "      <th>2</th>\n",
              "      <td>5</td>\n",
              "      <td>neutral</td>\n",
              "      <td>All residents asked to 'shelter in place' are ...</td>\n",
              "      <td>1</td>\n",
              "    </tr>\n",
              "    <tr>\n",
              "      <th>3</th>\n",
              "      <td>6</td>\n",
              "      <td>neutral</td>\n",
              "      <td>13,000 people receive #wildfires evacuation or...</td>\n",
              "      <td>1</td>\n",
              "    </tr>\n",
              "    <tr>\n",
              "      <th>4</th>\n",
              "      <td>7</td>\n",
              "      <td>neutral</td>\n",
              "      <td>Just got sent this photo from Ruby #Alaska as ...</td>\n",
              "      <td>1</td>\n",
              "    </tr>\n",
              "  </tbody>\n",
              "</table>\n",
              "</div>\n",
              "      <button class=\"colab-df-convert\" onclick=\"convertToInteractive('df-2c77585a-c426-4a9e-84f2-161ba5ba3101')\"\n",
              "              title=\"Convert this dataframe to an interactive table.\"\n",
              "              style=\"display:none;\">\n",
              "        \n",
              "  <svg xmlns=\"http://www.w3.org/2000/svg\" height=\"24px\"viewBox=\"0 0 24 24\"\n",
              "       width=\"24px\">\n",
              "    <path d=\"M0 0h24v24H0V0z\" fill=\"none\"/>\n",
              "    <path d=\"M18.56 5.44l.94 2.06.94-2.06 2.06-.94-2.06-.94-.94-2.06-.94 2.06-2.06.94zm-11 1L8.5 8.5l.94-2.06 2.06-.94-2.06-.94L8.5 2.5l-.94 2.06-2.06.94zm10 10l.94 2.06.94-2.06 2.06-.94-2.06-.94-.94-2.06-.94 2.06-2.06.94z\"/><path d=\"M17.41 7.96l-1.37-1.37c-.4-.4-.92-.59-1.43-.59-.52 0-1.04.2-1.43.59L10.3 9.45l-7.72 7.72c-.78.78-.78 2.05 0 2.83L4 21.41c.39.39.9.59 1.41.59.51 0 1.02-.2 1.41-.59l7.78-7.78 2.81-2.81c.8-.78.8-2.07 0-2.86zM5.41 20L4 18.59l7.72-7.72 1.47 1.35L5.41 20z\"/>\n",
              "  </svg>\n",
              "      </button>\n",
              "      \n",
              "  <style>\n",
              "    .colab-df-container {\n",
              "      display:flex;\n",
              "      flex-wrap:wrap;\n",
              "      gap: 12px;\n",
              "    }\n",
              "\n",
              "    .colab-df-convert {\n",
              "      background-color: #E8F0FE;\n",
              "      border: none;\n",
              "      border-radius: 50%;\n",
              "      cursor: pointer;\n",
              "      display: none;\n",
              "      fill: #1967D2;\n",
              "      height: 32px;\n",
              "      padding: 0 0 0 0;\n",
              "      width: 32px;\n",
              "    }\n",
              "\n",
              "    .colab-df-convert:hover {\n",
              "      background-color: #E2EBFA;\n",
              "      box-shadow: 0px 1px 2px rgba(60, 64, 67, 0.3), 0px 1px 3px 1px rgba(60, 64, 67, 0.15);\n",
              "      fill: #174EA6;\n",
              "    }\n",
              "\n",
              "    [theme=dark] .colab-df-convert {\n",
              "      background-color: #3B4455;\n",
              "      fill: #D2E3FC;\n",
              "    }\n",
              "\n",
              "    [theme=dark] .colab-df-convert:hover {\n",
              "      background-color: #434B5C;\n",
              "      box-shadow: 0px 1px 3px 1px rgba(0, 0, 0, 0.15);\n",
              "      filter: drop-shadow(0px 1px 2px rgba(0, 0, 0, 0.3));\n",
              "      fill: #FFFFFF;\n",
              "    }\n",
              "  </style>\n",
              "\n",
              "      <script>\n",
              "        const buttonEl =\n",
              "          document.querySelector('#df-2c77585a-c426-4a9e-84f2-161ba5ba3101 button.colab-df-convert');\n",
              "        buttonEl.style.display =\n",
              "          google.colab.kernel.accessAllowed ? 'block' : 'none';\n",
              "\n",
              "        async function convertToInteractive(key) {\n",
              "          const element = document.querySelector('#df-2c77585a-c426-4a9e-84f2-161ba5ba3101');\n",
              "          const dataTable =\n",
              "            await google.colab.kernel.invokeFunction('convertToInteractive',\n",
              "                                                     [key], {});\n",
              "          if (!dataTable) return;\n",
              "\n",
              "          const docLinkHtml = 'Like what you see? Visit the ' +\n",
              "            '<a target=\"_blank\" href=https://colab.research.google.com/notebooks/data_table.ipynb>data table notebook</a>'\n",
              "            + ' to learn more about interactive tables.';\n",
              "          element.innerHTML = '';\n",
              "          dataTable['output_type'] = 'display_data';\n",
              "          await google.colab.output.renderOutput(dataTable, element);\n",
              "          const docLink = document.createElement('div');\n",
              "          docLink.innerHTML = docLinkHtml;\n",
              "          element.appendChild(docLink);\n",
              "        }\n",
              "      </script>\n",
              "    </div>\n",
              "  </div>\n",
              "  "
            ]
          },
          "metadata": {},
          "execution_count": 9
        }
      ]
    },
    {
      "cell_type": "code",
      "source": [
        "ids = abt['id']\n",
        "X = abt.drop(['target','id'],axis=1)\n",
        "y = abt['target']"
      ],
      "metadata": {
        "id": "jlGqoyHZwBNH"
      },
      "execution_count": 10,
      "outputs": []
    },
    {
      "cell_type": "code",
      "source": [
        "X.shape,y.shape"
      ],
      "metadata": {
        "colab": {
          "base_uri": "https://localhost:8080/"
        },
        "id": "K6_mVSm7GVAf",
        "outputId": "effe9e26-8c81-406a-8f71-cf30736dbce5"
      },
      "execution_count": 11,
      "outputs": [
        {
          "output_type": "execute_result",
          "data": {
            "text/plain": [
              "((7613, 2), (7613,))"
            ]
          },
          "metadata": {},
          "execution_count": 11
        }
      ]
    },
    {
      "cell_type": "code",
      "source": [
        "# Create training and testing partitions\n",
        "X_train, X_test, y_train, y_test = train_test_split(X, y, test_size=0.3, random_state=1234)"
      ],
      "metadata": {
        "id": "ptKMDh4jwBPe"
      },
      "execution_count": 12,
      "outputs": []
    },
    {
      "cell_type": "code",
      "source": [
        "X_train"
      ],
      "metadata": {
        "colab": {
          "base_uri": "https://localhost:8080/",
          "height": 424
        },
        "id": "zNQoaTZkVStf",
        "outputId": "de526a75-4f03-486d-daaa-627fd5c008fc"
      },
      "execution_count": 13,
      "outputs": [
        {
          "output_type": "execute_result",
          "data": {
            "text/plain": [
              "        keyword                                               text\n",
              "4226  hazardous  Never fear quarrels but seek hazardous adventu...\n",
              "4092       hail            Hail! [pic] ÛÓ https://t.co/B7omJ7U3EI\n",
              "4150       harm  I don't pray harm on members of ISIS.I pray th...\n",
              "1311       burn  Don't be so modest. You certainly... *sniff* *...\n",
              "7053    typhoon  Obama Declares Disaster for Typhoon-Devastated...\n",
              "...         ...                                                ...\n",
              "3276  epicentre  @elisagxrcia I think of that every time I go t...\n",
              "7221    weapons  Incredulous at continued outcry of welfare bei...\n",
              "1318       burn  @nagel_ashley @Vicken52 @BasedLaRock @goonc1ty...\n",
              "723       bleed       @CoreyAshe Did that look broken or bleeding?\n",
              "2863    drought  CANADA BC DROUGHT: Okanagan region issued Leve...\n",
              "\n",
              "[5329 rows x 2 columns]"
            ],
            "text/html": [
              "\n",
              "  <div id=\"df-7ba01fdb-02fd-4692-9d2b-9a50fde1c245\">\n",
              "    <div class=\"colab-df-container\">\n",
              "      <div>\n",
              "<style scoped>\n",
              "    .dataframe tbody tr th:only-of-type {\n",
              "        vertical-align: middle;\n",
              "    }\n",
              "\n",
              "    .dataframe tbody tr th {\n",
              "        vertical-align: top;\n",
              "    }\n",
              "\n",
              "    .dataframe thead th {\n",
              "        text-align: right;\n",
              "    }\n",
              "</style>\n",
              "<table border=\"1\" class=\"dataframe\">\n",
              "  <thead>\n",
              "    <tr style=\"text-align: right;\">\n",
              "      <th></th>\n",
              "      <th>keyword</th>\n",
              "      <th>text</th>\n",
              "    </tr>\n",
              "  </thead>\n",
              "  <tbody>\n",
              "    <tr>\n",
              "      <th>4226</th>\n",
              "      <td>hazardous</td>\n",
              "      <td>Never fear quarrels but seek hazardous adventu...</td>\n",
              "    </tr>\n",
              "    <tr>\n",
              "      <th>4092</th>\n",
              "      <td>hail</td>\n",
              "      <td>Hail! [pic] ÛÓ https://t.co/B7omJ7U3EI</td>\n",
              "    </tr>\n",
              "    <tr>\n",
              "      <th>4150</th>\n",
              "      <td>harm</td>\n",
              "      <td>I don't pray harm on members of ISIS.I pray th...</td>\n",
              "    </tr>\n",
              "    <tr>\n",
              "      <th>1311</th>\n",
              "      <td>burn</td>\n",
              "      <td>Don't be so modest. You certainly... *sniff* *...</td>\n",
              "    </tr>\n",
              "    <tr>\n",
              "      <th>7053</th>\n",
              "      <td>typhoon</td>\n",
              "      <td>Obama Declares Disaster for Typhoon-Devastated...</td>\n",
              "    </tr>\n",
              "    <tr>\n",
              "      <th>...</th>\n",
              "      <td>...</td>\n",
              "      <td>...</td>\n",
              "    </tr>\n",
              "    <tr>\n",
              "      <th>3276</th>\n",
              "      <td>epicentre</td>\n",
              "      <td>@elisagxrcia I think of that every time I go t...</td>\n",
              "    </tr>\n",
              "    <tr>\n",
              "      <th>7221</th>\n",
              "      <td>weapons</td>\n",
              "      <td>Incredulous at continued outcry of welfare bei...</td>\n",
              "    </tr>\n",
              "    <tr>\n",
              "      <th>1318</th>\n",
              "      <td>burn</td>\n",
              "      <td>@nagel_ashley @Vicken52 @BasedLaRock @goonc1ty...</td>\n",
              "    </tr>\n",
              "    <tr>\n",
              "      <th>723</th>\n",
              "      <td>bleed</td>\n",
              "      <td>@CoreyAshe Did that look broken or bleeding?</td>\n",
              "    </tr>\n",
              "    <tr>\n",
              "      <th>2863</th>\n",
              "      <td>drought</td>\n",
              "      <td>CANADA BC DROUGHT: Okanagan region issued Leve...</td>\n",
              "    </tr>\n",
              "  </tbody>\n",
              "</table>\n",
              "<p>5329 rows × 2 columns</p>\n",
              "</div>\n",
              "      <button class=\"colab-df-convert\" onclick=\"convertToInteractive('df-7ba01fdb-02fd-4692-9d2b-9a50fde1c245')\"\n",
              "              title=\"Convert this dataframe to an interactive table.\"\n",
              "              style=\"display:none;\">\n",
              "        \n",
              "  <svg xmlns=\"http://www.w3.org/2000/svg\" height=\"24px\"viewBox=\"0 0 24 24\"\n",
              "       width=\"24px\">\n",
              "    <path d=\"M0 0h24v24H0V0z\" fill=\"none\"/>\n",
              "    <path d=\"M18.56 5.44l.94 2.06.94-2.06 2.06-.94-2.06-.94-.94-2.06-.94 2.06-2.06.94zm-11 1L8.5 8.5l.94-2.06 2.06-.94-2.06-.94L8.5 2.5l-.94 2.06-2.06.94zm10 10l.94 2.06.94-2.06 2.06-.94-2.06-.94-.94-2.06-.94 2.06-2.06.94z\"/><path d=\"M17.41 7.96l-1.37-1.37c-.4-.4-.92-.59-1.43-.59-.52 0-1.04.2-1.43.59L10.3 9.45l-7.72 7.72c-.78.78-.78 2.05 0 2.83L4 21.41c.39.39.9.59 1.41.59.51 0 1.02-.2 1.41-.59l7.78-7.78 2.81-2.81c.8-.78.8-2.07 0-2.86zM5.41 20L4 18.59l7.72-7.72 1.47 1.35L5.41 20z\"/>\n",
              "  </svg>\n",
              "      </button>\n",
              "      \n",
              "  <style>\n",
              "    .colab-df-container {\n",
              "      display:flex;\n",
              "      flex-wrap:wrap;\n",
              "      gap: 12px;\n",
              "    }\n",
              "\n",
              "    .colab-df-convert {\n",
              "      background-color: #E8F0FE;\n",
              "      border: none;\n",
              "      border-radius: 50%;\n",
              "      cursor: pointer;\n",
              "      display: none;\n",
              "      fill: #1967D2;\n",
              "      height: 32px;\n",
              "      padding: 0 0 0 0;\n",
              "      width: 32px;\n",
              "    }\n",
              "\n",
              "    .colab-df-convert:hover {\n",
              "      background-color: #E2EBFA;\n",
              "      box-shadow: 0px 1px 2px rgba(60, 64, 67, 0.3), 0px 1px 3px 1px rgba(60, 64, 67, 0.15);\n",
              "      fill: #174EA6;\n",
              "    }\n",
              "\n",
              "    [theme=dark] .colab-df-convert {\n",
              "      background-color: #3B4455;\n",
              "      fill: #D2E3FC;\n",
              "    }\n",
              "\n",
              "    [theme=dark] .colab-df-convert:hover {\n",
              "      background-color: #434B5C;\n",
              "      box-shadow: 0px 1px 3px 1px rgba(0, 0, 0, 0.15);\n",
              "      filter: drop-shadow(0px 1px 2px rgba(0, 0, 0, 0.3));\n",
              "      fill: #FFFFFF;\n",
              "    }\n",
              "  </style>\n",
              "\n",
              "      <script>\n",
              "        const buttonEl =\n",
              "          document.querySelector('#df-7ba01fdb-02fd-4692-9d2b-9a50fde1c245 button.colab-df-convert');\n",
              "        buttonEl.style.display =\n",
              "          google.colab.kernel.accessAllowed ? 'block' : 'none';\n",
              "\n",
              "        async function convertToInteractive(key) {\n",
              "          const element = document.querySelector('#df-7ba01fdb-02fd-4692-9d2b-9a50fde1c245');\n",
              "          const dataTable =\n",
              "            await google.colab.kernel.invokeFunction('convertToInteractive',\n",
              "                                                     [key], {});\n",
              "          if (!dataTable) return;\n",
              "\n",
              "          const docLinkHtml = 'Like what you see? Visit the ' +\n",
              "            '<a target=\"_blank\" href=https://colab.research.google.com/notebooks/data_table.ipynb>data table notebook</a>'\n",
              "            + ' to learn more about interactive tables.';\n",
              "          element.innerHTML = '';\n",
              "          dataTable['output_type'] = 'display_data';\n",
              "          await google.colab.output.renderOutput(dataTable, element);\n",
              "          const docLink = document.createElement('div');\n",
              "          docLink.innerHTML = docLinkHtml;\n",
              "          element.appendChild(docLink);\n",
              "        }\n",
              "      </script>\n",
              "    </div>\n",
              "  </div>\n",
              "  "
            ]
          },
          "metadata": {},
          "execution_count": 13
        }
      ]
    },
    {
      "cell_type": "code",
      "source": [
        "def preprocess_text(text):\n",
        "    # Tokenise to alphabetic tokens\n",
        "    tokeniser = RegexpTokenizer(r'[A-Za-z]+')\n",
        "    tokens = tokeniser.tokenize(text)\n",
        "\n",
        "    # Lowercase and lemmatise\n",
        "    lemmatiser = WordNetLemmatizer()\n",
        "    tokens = [lemmatiser.lemmatize(t.lower()) for t in tokens]\n",
        "\n",
        "    # Remove stopwords\n",
        "    stopWords = stopwords.words('english') + stopwords.words('french')\n",
        "    tokens = [t for t in tokens if t not in stopWords]\n",
        "    return tokens\n",
        "\n",
        "def preprocessing_text(text):\n",
        "# Eliminar caracteres no alfabéticos y transliterar caracteres especiales a caracteres ASCII\n",
        "  processed_text = unidecode(text.lower())\n",
        "  # Tokenizar el texto en palabras utilizando expresión regular excluyendo los dígitos\n",
        "  # Lowercase and lemmatise\n",
        "  lemmatiser = WordNetLemmatizer()\n",
        "  tokens = re.findall(r'[^\\W\\d]+', processed_text)\n",
        "  stopWords = stopwords.words('english')\n",
        "  tokens = [t for t in tokens if t not in stopWords]\n",
        "  tokens = [lemmatiser.lemmatize(t.lower()) for t in tokens]\n",
        "\n",
        "  return tokens"
      ],
      "metadata": {
        "id": "gKIvdYF9E7xd"
      },
      "execution_count": 14,
      "outputs": []
    },
    {
      "cell_type": "code",
      "source": [
        "#Esto se usa cuando solo es una variable independiente\n",
        "#X_train = X_train.squeeze()\n",
        "#X_test = X_test.squeeze()"
      ],
      "metadata": {
        "id": "ShmsSnJdMgNu"
      },
      "execution_count": 15,
      "outputs": []
    },
    {
      "cell_type": "code",
      "source": [
        "text_column = 'text'\n",
        "categorical_columns = ['keyword']\n",
        "\n",
        "# Crear el preprocesamiento con CountVectorizer y OneHotEncoder\n",
        "preprocessor = ColumnTransformer(\n",
        "    transformers=[\n",
        "        ('text_vectorizer', CountVectorizer(analyzer = preprocessing_text, dtype = np.float64, decode_error='ignore'), text_column),\n",
        "        ('onehot_encoder', OneHotEncoder(), categorical_columns)\n",
        "    ])\n",
        "\n",
        "\n",
        "\n",
        "\n",
        "pip1 = Pipeline([\n",
        "    ('preprocessor', preprocessor),\n",
        "    ('rf', RandomForestClassifier(random_state=1234))\n",
        "])\n",
        "\n",
        "\n",
        "pip2= Pipeline([\n",
        "    ('preprocessor', preprocessor),\n",
        "    ('gb', GradientBoostingClassifier(random_state=1234))])\n",
        "\n",
        "\n",
        "pipelines = {\n",
        "    'rf':pip1,\n",
        "    'gb':pip2\n",
        "}\n",
        "\n",
        "\n",
        "grid = {\n",
        "    'rf':{\n",
        "    'rf__n_estimators': [100, 200],\n",
        "    #'rf__max_depth': [None, 5, 10],\n",
        "    'rf__min_samples_split': [2, 5, 10],\n",
        "    #'rf__min_samples_leaf': [1, 2, 4],\n",
        "    'rf__max_features': ['auto', 'sqrt']\n",
        "},\n",
        "    'gb':{\n",
        "    'gb__n_estimators': [100,200],\n",
        "    'gb__learning_rate': [0.1, 0.5],\n",
        "    #'gb__max_depth': [3, 5, None],\n",
        "    'gb__min_samples_split': [2, 5, 10],\n",
        "    #'gb__min_samples_leaf': [1, 2, 4],\n",
        "    'gb__max_features': ['auto', 'sqrt']\n",
        "}\n",
        "}\n"
      ],
      "metadata": {
        "id": "2j69Ohrhu3jl"
      },
      "execution_count": 24,
      "outputs": []
    },
    {
      "cell_type": "code",
      "source": [
        "# Create a blank dictionary to hold the models\n",
        "fit_models = {}\n",
        "# Loop through all the algos\n",
        "for algo, pipeline in pipelines.items():\n",
        "  print(f'Training the {algo} model.')\n",
        "  # Create new Grid Search CV Cclass\n",
        "  model = GridSearchCV(pipeline, grid[algo], n_jobs=1, cv=6)\n",
        "  # Train the model\n",
        "  print('dimensiones')\n",
        "  print(X_train.shape,y_train.shape)\n",
        "  model.fit(X_train, y_train)\n",
        "  # Store results inside of the dictionary\n",
        "  fit_models[algo] = model"
      ],
      "metadata": {
        "id": "vcSK-X_Wx7Mp"
      },
      "execution_count": null,
      "outputs": []
    },
    {
      "cell_type": "code",
      "source": [
        "# Evaluate the performance of the model\n",
        "for algo, model in fit_models.items():\n",
        "  yhat = model.predict(X_test)\n",
        "  accuracy = accuracy_score(y_test, yhat)\n",
        "  precision = precision_score(y_test, yhat)\n",
        "  recall = recall_score(y_test, yhat)\n",
        "  f1 = f1_score(y_test,yhat)\n",
        "  print(f'Metrics for {algo}: accuracy- {accuracy}, recall- {recall}, precision- {precision}, f1- {f1} ')"
      ],
      "metadata": {
        "id": "ybnVO4payI58",
        "colab": {
          "base_uri": "https://localhost:8080/"
        },
        "outputId": "bb0c56f7-915b-4713-b62b-ffaf29f0651f"
      },
      "execution_count": 26,
      "outputs": [
        {
          "output_type": "stream",
          "name": "stdout",
          "text": [
            "Metrics for rf: accuracy- 0.8073555166374781, recall- 0.6536144578313253, precision- 0.8726541554959786, f1- 0.7474167623421354 \n",
            "Metrics for gb: accuracy- 0.7889667250437828, recall- 0.6646586345381527, precision- 0.817283950617284, f1- 0.7331118493909192 \n"
          ]
        }
      ]
    },
    {
      "cell_type": "code",
      "source": [
        "import pickle\n",
        "with open('randomforest.pkl', 'wb') as f:\n",
        "  pickle.dump(fit_models['rf'], f)\n",
        "with open('randomforest.pkl', 'rb') as f:\n",
        "  reloaded_model = pickle.load(f)"
      ],
      "metadata": {
        "id": "0u6oIS396XbF"
      },
      "execution_count": 27,
      "outputs": []
    },
    {
      "cell_type": "code",
      "source": [
        "# Read in the Test CSV Dataset\n",
        "test_df = pd.read_csv('test.csv')\n",
        "# Deep copy\n",
        "abt_test = test_df.copy()\n",
        "preprocessing_data(abt_test)\n",
        "abt_test['keyword'] = abt_test['keyword'].apply(noTilde)\n",
        "yhat_test = fit_models['rf'].predict(abt_test)"
      ],
      "metadata": {
        "id": "baveV91R9NFD"
      },
      "execution_count": 30,
      "outputs": []
    },
    {
      "cell_type": "code",
      "source": [
        "submission = pd.DataFrame([test_df['id'], yhat_test]).T\n",
        "submission.columns = ['id', 'target']\n",
        "submission.head()"
      ],
      "metadata": {
        "colab": {
          "base_uri": "https://localhost:8080/",
          "height": 206
        },
        "id": "IIW1g-cbI3rb",
        "outputId": "b74d0e0d-a9f2-49a3-e0d7-dc6ca03b2931"
      },
      "execution_count": 32,
      "outputs": [
        {
          "output_type": "execute_result",
          "data": {
            "text/plain": [
              "   id  target\n",
              "0   0       0\n",
              "1   2       1\n",
              "2   3       1\n",
              "3   9       1\n",
              "4  11       1"
            ],
            "text/html": [
              "\n",
              "  <div id=\"df-2f0cb213-8daa-457f-aa1a-94cd214f3034\">\n",
              "    <div class=\"colab-df-container\">\n",
              "      <div>\n",
              "<style scoped>\n",
              "    .dataframe tbody tr th:only-of-type {\n",
              "        vertical-align: middle;\n",
              "    }\n",
              "\n",
              "    .dataframe tbody tr th {\n",
              "        vertical-align: top;\n",
              "    }\n",
              "\n",
              "    .dataframe thead th {\n",
              "        text-align: right;\n",
              "    }\n",
              "</style>\n",
              "<table border=\"1\" class=\"dataframe\">\n",
              "  <thead>\n",
              "    <tr style=\"text-align: right;\">\n",
              "      <th></th>\n",
              "      <th>id</th>\n",
              "      <th>target</th>\n",
              "    </tr>\n",
              "  </thead>\n",
              "  <tbody>\n",
              "    <tr>\n",
              "      <th>0</th>\n",
              "      <td>0</td>\n",
              "      <td>0</td>\n",
              "    </tr>\n",
              "    <tr>\n",
              "      <th>1</th>\n",
              "      <td>2</td>\n",
              "      <td>1</td>\n",
              "    </tr>\n",
              "    <tr>\n",
              "      <th>2</th>\n",
              "      <td>3</td>\n",
              "      <td>1</td>\n",
              "    </tr>\n",
              "    <tr>\n",
              "      <th>3</th>\n",
              "      <td>9</td>\n",
              "      <td>1</td>\n",
              "    </tr>\n",
              "    <tr>\n",
              "      <th>4</th>\n",
              "      <td>11</td>\n",
              "      <td>1</td>\n",
              "    </tr>\n",
              "  </tbody>\n",
              "</table>\n",
              "</div>\n",
              "      <button class=\"colab-df-convert\" onclick=\"convertToInteractive('df-2f0cb213-8daa-457f-aa1a-94cd214f3034')\"\n",
              "              title=\"Convert this dataframe to an interactive table.\"\n",
              "              style=\"display:none;\">\n",
              "        \n",
              "  <svg xmlns=\"http://www.w3.org/2000/svg\" height=\"24px\"viewBox=\"0 0 24 24\"\n",
              "       width=\"24px\">\n",
              "    <path d=\"M0 0h24v24H0V0z\" fill=\"none\"/>\n",
              "    <path d=\"M18.56 5.44l.94 2.06.94-2.06 2.06-.94-2.06-.94-.94-2.06-.94 2.06-2.06.94zm-11 1L8.5 8.5l.94-2.06 2.06-.94-2.06-.94L8.5 2.5l-.94 2.06-2.06.94zm10 10l.94 2.06.94-2.06 2.06-.94-2.06-.94-.94-2.06-.94 2.06-2.06.94z\"/><path d=\"M17.41 7.96l-1.37-1.37c-.4-.4-.92-.59-1.43-.59-.52 0-1.04.2-1.43.59L10.3 9.45l-7.72 7.72c-.78.78-.78 2.05 0 2.83L4 21.41c.39.39.9.59 1.41.59.51 0 1.02-.2 1.41-.59l7.78-7.78 2.81-2.81c.8-.78.8-2.07 0-2.86zM5.41 20L4 18.59l7.72-7.72 1.47 1.35L5.41 20z\"/>\n",
              "  </svg>\n",
              "      </button>\n",
              "      \n",
              "  <style>\n",
              "    .colab-df-container {\n",
              "      display:flex;\n",
              "      flex-wrap:wrap;\n",
              "      gap: 12px;\n",
              "    }\n",
              "\n",
              "    .colab-df-convert {\n",
              "      background-color: #E8F0FE;\n",
              "      border: none;\n",
              "      border-radius: 50%;\n",
              "      cursor: pointer;\n",
              "      display: none;\n",
              "      fill: #1967D2;\n",
              "      height: 32px;\n",
              "      padding: 0 0 0 0;\n",
              "      width: 32px;\n",
              "    }\n",
              "\n",
              "    .colab-df-convert:hover {\n",
              "      background-color: #E2EBFA;\n",
              "      box-shadow: 0px 1px 2px rgba(60, 64, 67, 0.3), 0px 1px 3px 1px rgba(60, 64, 67, 0.15);\n",
              "      fill: #174EA6;\n",
              "    }\n",
              "\n",
              "    [theme=dark] .colab-df-convert {\n",
              "      background-color: #3B4455;\n",
              "      fill: #D2E3FC;\n",
              "    }\n",
              "\n",
              "    [theme=dark] .colab-df-convert:hover {\n",
              "      background-color: #434B5C;\n",
              "      box-shadow: 0px 1px 3px 1px rgba(0, 0, 0, 0.15);\n",
              "      filter: drop-shadow(0px 1px 2px rgba(0, 0, 0, 0.3));\n",
              "      fill: #FFFFFF;\n",
              "    }\n",
              "  </style>\n",
              "\n",
              "      <script>\n",
              "        const buttonEl =\n",
              "          document.querySelector('#df-2f0cb213-8daa-457f-aa1a-94cd214f3034 button.colab-df-convert');\n",
              "        buttonEl.style.display =\n",
              "          google.colab.kernel.accessAllowed ? 'block' : 'none';\n",
              "\n",
              "        async function convertToInteractive(key) {\n",
              "          const element = document.querySelector('#df-2f0cb213-8daa-457f-aa1a-94cd214f3034');\n",
              "          const dataTable =\n",
              "            await google.colab.kernel.invokeFunction('convertToInteractive',\n",
              "                                                     [key], {});\n",
              "          if (!dataTable) return;\n",
              "\n",
              "          const docLinkHtml = 'Like what you see? Visit the ' +\n",
              "            '<a target=\"_blank\" href=https://colab.research.google.com/notebooks/data_table.ipynb>data table notebook</a>'\n",
              "            + ' to learn more about interactive tables.';\n",
              "          element.innerHTML = '';\n",
              "          dataTable['output_type'] = 'display_data';\n",
              "          await google.colab.output.renderOutput(dataTable, element);\n",
              "          const docLink = document.createElement('div');\n",
              "          docLink.innerHTML = docLinkHtml;\n",
              "          element.appendChild(docLink);\n",
              "        }\n",
              "      </script>\n",
              "    </div>\n",
              "  </div>\n",
              "  "
            ]
          },
          "metadata": {},
          "execution_count": 32
        }
      ]
    },
    {
      "cell_type": "code",
      "source": [
        "submission.to_csv('kaggle_submission.csv', index=False)\n",
        "!kaggle competitions submit -c nlp-getting-started -m \"initial rf model\" -f \"kaggle_submission.csv\""
      ],
      "metadata": {
        "colab": {
          "base_uri": "https://localhost:8080/"
        },
        "id": "LOP4mi4mJg-J",
        "outputId": "c977b1a1-e67e-4e63-df36-d1aa741472f4"
      },
      "execution_count": 33,
      "outputs": [
        {
          "output_type": "stream",
          "name": "stdout",
          "text": [
            "\r  0% 0.00/22.2k [00:00<?, ?B/s]\r100% 22.2k/22.2k [00:00<00:00, 123kB/s]\n",
            "Successfully submitted to Natural Language Processing with Disaster Tweets"
          ]
        }
      ]
    }
  ]
}